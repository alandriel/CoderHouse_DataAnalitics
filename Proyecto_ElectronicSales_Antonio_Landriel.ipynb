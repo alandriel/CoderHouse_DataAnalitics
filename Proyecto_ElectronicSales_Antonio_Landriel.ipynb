{
  "cells": [
    {
      "cell_type": "markdown",
      "source": [
        "# **# Data Science CoderHouse - Comision Nro 61690**"
      ],
      "metadata": {
        "id": "C6qyx1iW5cM4"
      }
    },
    {
      "cell_type": "markdown",
      "source": [
        "# **Alumno:** Antonio Landriel"
      ],
      "metadata": {
        "id": "sO7EgVwm5_cV"
      }
    },
    {
      "cell_type": "markdown",
      "source": [
        "# Introducción"
      ],
      "metadata": {
        "id": "yfa11whzLThH"
      }
    },
    {
      "cell_type": "markdown",
      "source": [
        "En el entorno competitivo actual, conocer a los clientes de manera profunda es fundamental para diseñar estrategias de marketing personalizadas y mejorar la experiencia de compra.\n",
        "\n",
        "La segmentación de clientes es una técnica analítica que permite identificar grupos de consumidores con comportamientos y características similares.\n",
        "\n",
        "Este enfoque ayuda a las empresas a ofrecer productos y promociones más alineados con las preferencias de cada grupo, mejorando la satisfacción del cliente y optimizando los ingresos.\n",
        "\n",
        "En este análisis, se explorará un conjunto de datos compuesto por diversas características de los clientes y sus transacciones, como la edad, el tipo de producto adquirido, el precio total de las compras, y los complementos adquiridos.\n",
        "\n",
        "Utilizando técnicas de clustering, se buscará agrupar a los clientes en segmentos homogéneos, lo que permitirá identificar patrones de comportamiento y oportunidades para una mayor personalización en las campañas de marketing.\n",
        "\n",
        "El objetivo de este estudio es proporcionar una base sólida para la creación de estrategias comerciales dirigidas, que aumenten tanto la retención de clientes como la efectividad de las ventas."
      ],
      "metadata": {
        "id": "Oq2WgfKF6fl_"
      }
    },
    {
      "cell_type": "markdown",
      "source": [
        "# Descripción del problema"
      ],
      "metadata": {
        "id": "OMNCJFiuME8B"
      }
    },
    {
      "cell_type": "markdown",
      "source": [
        "En un entorno de consumo diverso, las empresas enfrentan el desafío de tratar a todos los clientes de manera uniforme, lo que puede resultar en estrategias de marketing ineficaces y una menor satisfacción del cliente.\n",
        "\n",
        "Los clientes tienen comportamientos y preferencias diferentes, por lo que es crucial identificar estos grupos para personalizar las ofertas y mejorar la relación con ellos.\n",
        "\n",
        "Sin una segmentación adecuada, es difícil maximizar la retención y optimizar los recursos comerciales.\n",
        "\n",
        "Este análisis busca agrupar a los clientes en segmentos homogéneos, permitiendo el desarrollo de estrategias dirigidas y efectivas."
      ],
      "metadata": {
        "id": "FdNnERmwMDkT"
      }
    },
    {
      "cell_type": "markdown",
      "source": [
        "# Objetivo"
      ],
      "metadata": {
        "id": "7uEOoAYtOfOa"
      }
    },
    {
      "cell_type": "markdown",
      "source": [
        "\n",
        "Identificar segmentos de clientes con características similares para ofrecer promociones o productos personalizados.."
      ],
      "metadata": {
        "id": "p9e29OIs77fc"
      }
    },
    {
      "cell_type": "markdown",
      "source": [
        "# Fuente de datos"
      ],
      "metadata": {
        "id": "tuffe2vtMf62"
      }
    },
    {
      "cell_type": "markdown",
      "source": [
        "https://www.kaggle.com/datasets/cameronseamons/electronic-sales-sep2023-sep2024?resource=download"
      ],
      "metadata": {
        "id": "kr-rcTwQMmQe"
      }
    },
    {
      "cell_type": "markdown",
      "source": [
        "## Importación de Librerías y carga del Dataframe\n"
      ],
      "metadata": {
        "id": "nw_YMcWd9a78"
      }
    },
    {
      "cell_type": "code",
      "source": [
        "import pandas as pd\n",
        "import numpy as np\n",
        "import matplotlib.pyplot as plt\n",
        "import seaborn as sns"
      ],
      "metadata": {
        "id": "xnrhdMU59fUg"
      },
      "execution_count": 31,
      "outputs": []
    },
    {
      "cell_type": "code",
      "source": [
        "url = \"https://raw.githubusercontent.com/alandriel/CoderHouse_DataAnalitics/refs/heads/alandriel-DataSet_1/Electronic_sales_Sep2023-Sep2024.csv\"\n",
        "ElectronicSales = pd.read_csv(url)"
      ],
      "metadata": {
        "id": "v3lDp2sn97Dl"
      },
      "execution_count": 32,
      "outputs": []
    },
    {
      "cell_type": "markdown",
      "source": [
        "#Esploracion de los datos"
      ],
      "metadata": {
        "id": "Y9EZN9no9BYA"
      }
    },
    {
      "cell_type": "markdown",
      "source": [
        "En esta sección, exploramos el conjunto de datos para comprender sus características y distribuciones. Esto nos ayudará a identificar patrones y relaciones entre las variables.\n",
        "\n",
        "- Estadísticas Descriptivas: Calcular estadísticas descriptivas como media, mediana, desviación estándar, etc.\n",
        "- Distribuciones: Visualizar las distribuciones de las variables numéricas y categóricas.\n",
        "\n",
        "- Gráficos Exploratorios: Crear gráficos como histogramas, diagramas de dispersión, y diagramas de caja para explorar los datos."
      ],
      "metadata": {
        "id": "JxWdzrfP9Myk"
      }
    },
    {
      "cell_type": "markdown",
      "source": [
        "- **Dataframe .Shape:**\n",
        "    Por medio de este comando exploramos en su generalidad nuestro Dataframe y obtenemos.\n",
        "    - Cantidad de registros.\n",
        "    - Cantidad de columnas."
      ],
      "metadata": {
        "id": "5ge0dph3GqMb"
      }
    },
    {
      "cell_type": "code",
      "execution_count": 33,
      "metadata": {
        "colab": {
          "base_uri": "https://localhost:8080/"
        },
        "id": "7_7hfAHtOfqG",
        "outputId": "a7568ac0-a414-4cbf-a2b1-11d362722f02"
      },
      "outputs": [
        {
          "output_type": "stream",
          "name": "stdout",
          "text": [
            "(20000, 16)\n"
          ]
        }
      ],
      "source": [
        "print (ElectronicSales.shape)"
      ]
    },
    {
      "cell_type": "markdown",
      "source": [
        "- **Dataframe .Info:**\n",
        "    Ejecutamos el comando .info para comprender el entorno de nuesrtos datos - - Cantidad de columnas.\n",
        "    - Nombres de cada columna.\n",
        "    - Cantidad de registros por campo.\n",
        "    - Cantidad de nulos dentro de cada variable.\n",
        "    - Tipo de dato de cada variable."
      ],
      "metadata": {
        "id": "8U5XaYoMFOjr"
      }
    },
    {
      "cell_type": "code",
      "source": [
        "ElectronicSales.info()"
      ],
      "metadata": {
        "colab": {
          "base_uri": "https://localhost:8080/"
        },
        "id": "c363xgnlEQ2m",
        "outputId": "c0807bbe-4845-4051-8cb7-c1529d6f8716"
      },
      "execution_count": 34,
      "outputs": [
        {
          "output_type": "stream",
          "name": "stdout",
          "text": [
            "<class 'pandas.core.frame.DataFrame'>\n",
            "RangeIndex: 20000 entries, 0 to 19999\n",
            "Data columns (total 16 columns):\n",
            " #   Column             Non-Null Count  Dtype  \n",
            "---  ------             --------------  -----  \n",
            " 0   Customer ID        20000 non-null  int64  \n",
            " 1   Age                20000 non-null  int64  \n",
            " 2   Gender             19999 non-null  object \n",
            " 3   Loyalty Member     20000 non-null  object \n",
            " 4   Product Type       20000 non-null  object \n",
            " 5   SKU                20000 non-null  object \n",
            " 6   Rating             20000 non-null  int64  \n",
            " 7   Order Status       20000 non-null  object \n",
            " 8   Payment Method     20000 non-null  object \n",
            " 9   Total Price        20000 non-null  float64\n",
            " 10  Unit Price         20000 non-null  float64\n",
            " 11  Quantity           20000 non-null  int64  \n",
            " 12  Purchase Date      20000 non-null  object \n",
            " 13  Shipping Type      20000 non-null  object \n",
            " 14  Add-ons Purchased  15132 non-null  object \n",
            " 15  Add-on Total       20000 non-null  float64\n",
            "dtypes: float64(3), int64(4), object(9)\n",
            "memory usage: 2.4+ MB\n"
          ]
        }
      ]
    },
    {
      "cell_type": "markdown",
      "source": [
        "# Descripcion de nuestras Variables.\n",
        "\n"
      ],
      "metadata": {
        "id": "q43H-D1CO1Su"
      }
    },
    {
      "cell_type": "markdown",
      "source": [
        "- Customer ID: Identificador único para cada cliente.\n",
        "- Age: Edad del cliente (numérico).\n",
        "- Gender: Género del cliente (Masculino o Femenino).\n",
        "- Loyalty Member: (Sí/No) (Los valores cambian con el tiempo, por lo que hay - que prestar atención a quién canceló y quién se inscribió).\n",
        "- Product Type: Tipo de producto electrónico vendido (p. ej., Smartphone, Laptop, Tablet).\n",
        "- SKU: Código único para cada producto.\n",
        "- Rating: Calificación del producto por parte del cliente (1-5 estrellas) (No debe haber calificaciones nulas).\n",
        "- Order Status: Estado del pedido (Completado, Cancelado).\n",
        "- Payment Method: Método utilizado para el pago (p. ej., Efectivo, Tarjeta de crédito, Paypal).\n",
        "- Total Price: Precio total de la transacción (numérico).\n",
        "- Unit Price: Precio por unidad del producto (numérico).\n",
        "- Quantity: Número de unidades compradas (numérico).\n",
        "- Purchase Date: Fecha de la compra (formato: YYYY-MM-DD).\n",
        "- Shipping Type: Tipo de envío elegido (p. ej., Estándar, Urgente, Exprés).\n",
        "- Add-ons Purchased: Lista de artículos adicionales comprados (p. ej., Accesorios, Garantía extendida).\n",
        "-Add-on Total: Precio total de los complementos comprados (numérico)."
      ],
      "metadata": {
        "id": "YncbkGWXXEWF"
      }
    },
    {
      "cell_type": "markdown",
      "source": [
        "Nuestro Dataframe esta compuesto por 16 variables y 20.000 registros. Dentro del mismo observamos algunos valores nulos que se pueden verificar desde la columna \"Non-Nul Count\" resultante de nuestro comando .info()\n",
        "\n",
        "---\n",
        "\n"
      ],
      "metadata": {
        "id": "2IyUkDBoLuFE"
      }
    },
    {
      "cell_type": "markdown",
      "source": [
        "- **Dataframe .Head:**\n",
        "   \n",
        "    Por medio de este comando logramos observar una muestra de los primeros 5 registros de nuestro Dataframe que nos permite comprender las diferentes variables contenidas en el."
      ],
      "metadata": {
        "id": "--WzCaHTHonp"
      }
    },
    {
      "cell_type": "code",
      "execution_count": 35,
      "metadata": {
        "colab": {
          "base_uri": "https://localhost:8080/",
          "height": 206
        },
        "id": "4WlHtGawG1hL",
        "outputId": "4d6eed0c-6b07-40d6-d68e-269003370af9"
      },
      "outputs": [
        {
          "output_type": "execute_result",
          "data": {
            "text/plain": [
              "   Customer ID  Age Gender Loyalty Member Product Type      SKU  Rating  \\\n",
              "0         1000   53   Male             No   Smartphone  SKU1004       2   \n",
              "1         1000   53   Male             No       Tablet  SKU1002       3   \n",
              "2         1002   41   Male             No       Laptop  SKU1005       3   \n",
              "3         1002   41   Male            Yes   Smartphone  SKU1004       2   \n",
              "4         1003   75   Male            Yes   Smartphone  SKU1001       5   \n",
              "\n",
              "  Order Status Payment Method  Total Price  Unit Price  Quantity  \\\n",
              "0    Cancelled    Credit Card      5538.33      791.19         7   \n",
              "1    Completed         Paypal       741.09      247.03         3   \n",
              "2    Completed    Credit Card      1855.84      463.96         4   \n",
              "3    Completed           Cash      3164.76      791.19         4   \n",
              "4    Completed           Cash        41.50       20.75         2   \n",
              "\n",
              "  Purchase Date Shipping Type              Add-ons Purchased  Add-on Total  \n",
              "0    2024-03-20      Standard  Accessory,Accessory,Accessory         40.21  \n",
              "1    2024-04-20     Overnight                   Impulse Item         26.09  \n",
              "2    2023-10-17       Express                            NaN          0.00  \n",
              "3    2024-08-09     Overnight      Impulse Item,Impulse Item         60.16  \n",
              "4    2024-05-21       Express                      Accessory         35.56  "
            ],
            "text/html": [
              "\n",
              "  <div id=\"df-aea80b9a-28d9-48be-bdb7-078985854138\" class=\"colab-df-container\">\n",
              "    <div>\n",
              "<style scoped>\n",
              "    .dataframe tbody tr th:only-of-type {\n",
              "        vertical-align: middle;\n",
              "    }\n",
              "\n",
              "    .dataframe tbody tr th {\n",
              "        vertical-align: top;\n",
              "    }\n",
              "\n",
              "    .dataframe thead th {\n",
              "        text-align: right;\n",
              "    }\n",
              "</style>\n",
              "<table border=\"1\" class=\"dataframe\">\n",
              "  <thead>\n",
              "    <tr style=\"text-align: right;\">\n",
              "      <th></th>\n",
              "      <th>Customer ID</th>\n",
              "      <th>Age</th>\n",
              "      <th>Gender</th>\n",
              "      <th>Loyalty Member</th>\n",
              "      <th>Product Type</th>\n",
              "      <th>SKU</th>\n",
              "      <th>Rating</th>\n",
              "      <th>Order Status</th>\n",
              "      <th>Payment Method</th>\n",
              "      <th>Total Price</th>\n",
              "      <th>Unit Price</th>\n",
              "      <th>Quantity</th>\n",
              "      <th>Purchase Date</th>\n",
              "      <th>Shipping Type</th>\n",
              "      <th>Add-ons Purchased</th>\n",
              "      <th>Add-on Total</th>\n",
              "    </tr>\n",
              "  </thead>\n",
              "  <tbody>\n",
              "    <tr>\n",
              "      <th>0</th>\n",
              "      <td>1000</td>\n",
              "      <td>53</td>\n",
              "      <td>Male</td>\n",
              "      <td>No</td>\n",
              "      <td>Smartphone</td>\n",
              "      <td>SKU1004</td>\n",
              "      <td>2</td>\n",
              "      <td>Cancelled</td>\n",
              "      <td>Credit Card</td>\n",
              "      <td>5538.33</td>\n",
              "      <td>791.19</td>\n",
              "      <td>7</td>\n",
              "      <td>2024-03-20</td>\n",
              "      <td>Standard</td>\n",
              "      <td>Accessory,Accessory,Accessory</td>\n",
              "      <td>40.21</td>\n",
              "    </tr>\n",
              "    <tr>\n",
              "      <th>1</th>\n",
              "      <td>1000</td>\n",
              "      <td>53</td>\n",
              "      <td>Male</td>\n",
              "      <td>No</td>\n",
              "      <td>Tablet</td>\n",
              "      <td>SKU1002</td>\n",
              "      <td>3</td>\n",
              "      <td>Completed</td>\n",
              "      <td>Paypal</td>\n",
              "      <td>741.09</td>\n",
              "      <td>247.03</td>\n",
              "      <td>3</td>\n",
              "      <td>2024-04-20</td>\n",
              "      <td>Overnight</td>\n",
              "      <td>Impulse Item</td>\n",
              "      <td>26.09</td>\n",
              "    </tr>\n",
              "    <tr>\n",
              "      <th>2</th>\n",
              "      <td>1002</td>\n",
              "      <td>41</td>\n",
              "      <td>Male</td>\n",
              "      <td>No</td>\n",
              "      <td>Laptop</td>\n",
              "      <td>SKU1005</td>\n",
              "      <td>3</td>\n",
              "      <td>Completed</td>\n",
              "      <td>Credit Card</td>\n",
              "      <td>1855.84</td>\n",
              "      <td>463.96</td>\n",
              "      <td>4</td>\n",
              "      <td>2023-10-17</td>\n",
              "      <td>Express</td>\n",
              "      <td>NaN</td>\n",
              "      <td>0.00</td>\n",
              "    </tr>\n",
              "    <tr>\n",
              "      <th>3</th>\n",
              "      <td>1002</td>\n",
              "      <td>41</td>\n",
              "      <td>Male</td>\n",
              "      <td>Yes</td>\n",
              "      <td>Smartphone</td>\n",
              "      <td>SKU1004</td>\n",
              "      <td>2</td>\n",
              "      <td>Completed</td>\n",
              "      <td>Cash</td>\n",
              "      <td>3164.76</td>\n",
              "      <td>791.19</td>\n",
              "      <td>4</td>\n",
              "      <td>2024-08-09</td>\n",
              "      <td>Overnight</td>\n",
              "      <td>Impulse Item,Impulse Item</td>\n",
              "      <td>60.16</td>\n",
              "    </tr>\n",
              "    <tr>\n",
              "      <th>4</th>\n",
              "      <td>1003</td>\n",
              "      <td>75</td>\n",
              "      <td>Male</td>\n",
              "      <td>Yes</td>\n",
              "      <td>Smartphone</td>\n",
              "      <td>SKU1001</td>\n",
              "      <td>5</td>\n",
              "      <td>Completed</td>\n",
              "      <td>Cash</td>\n",
              "      <td>41.50</td>\n",
              "      <td>20.75</td>\n",
              "      <td>2</td>\n",
              "      <td>2024-05-21</td>\n",
              "      <td>Express</td>\n",
              "      <td>Accessory</td>\n",
              "      <td>35.56</td>\n",
              "    </tr>\n",
              "  </tbody>\n",
              "</table>\n",
              "</div>\n",
              "    <div class=\"colab-df-buttons\">\n",
              "\n",
              "  <div class=\"colab-df-container\">\n",
              "    <button class=\"colab-df-convert\" onclick=\"convertToInteractive('df-aea80b9a-28d9-48be-bdb7-078985854138')\"\n",
              "            title=\"Convert this dataframe to an interactive table.\"\n",
              "            style=\"display:none;\">\n",
              "\n",
              "  <svg xmlns=\"http://www.w3.org/2000/svg\" height=\"24px\" viewBox=\"0 -960 960 960\">\n",
              "    <path d=\"M120-120v-720h720v720H120Zm60-500h600v-160H180v160Zm220 220h160v-160H400v160Zm0 220h160v-160H400v160ZM180-400h160v-160H180v160Zm440 0h160v-160H620v160ZM180-180h160v-160H180v160Zm440 0h160v-160H620v160Z\"/>\n",
              "  </svg>\n",
              "    </button>\n",
              "\n",
              "  <style>\n",
              "    .colab-df-container {\n",
              "      display:flex;\n",
              "      gap: 12px;\n",
              "    }\n",
              "\n",
              "    .colab-df-convert {\n",
              "      background-color: #E8F0FE;\n",
              "      border: none;\n",
              "      border-radius: 50%;\n",
              "      cursor: pointer;\n",
              "      display: none;\n",
              "      fill: #1967D2;\n",
              "      height: 32px;\n",
              "      padding: 0 0 0 0;\n",
              "      width: 32px;\n",
              "    }\n",
              "\n",
              "    .colab-df-convert:hover {\n",
              "      background-color: #E2EBFA;\n",
              "      box-shadow: 0px 1px 2px rgba(60, 64, 67, 0.3), 0px 1px 3px 1px rgba(60, 64, 67, 0.15);\n",
              "      fill: #174EA6;\n",
              "    }\n",
              "\n",
              "    .colab-df-buttons div {\n",
              "      margin-bottom: 4px;\n",
              "    }\n",
              "\n",
              "    [theme=dark] .colab-df-convert {\n",
              "      background-color: #3B4455;\n",
              "      fill: #D2E3FC;\n",
              "    }\n",
              "\n",
              "    [theme=dark] .colab-df-convert:hover {\n",
              "      background-color: #434B5C;\n",
              "      box-shadow: 0px 1px 3px 1px rgba(0, 0, 0, 0.15);\n",
              "      filter: drop-shadow(0px 1px 2px rgba(0, 0, 0, 0.3));\n",
              "      fill: #FFFFFF;\n",
              "    }\n",
              "  </style>\n",
              "\n",
              "    <script>\n",
              "      const buttonEl =\n",
              "        document.querySelector('#df-aea80b9a-28d9-48be-bdb7-078985854138 button.colab-df-convert');\n",
              "      buttonEl.style.display =\n",
              "        google.colab.kernel.accessAllowed ? 'block' : 'none';\n",
              "\n",
              "      async function convertToInteractive(key) {\n",
              "        const element = document.querySelector('#df-aea80b9a-28d9-48be-bdb7-078985854138');\n",
              "        const dataTable =\n",
              "          await google.colab.kernel.invokeFunction('convertToInteractive',\n",
              "                                                    [key], {});\n",
              "        if (!dataTable) return;\n",
              "\n",
              "        const docLinkHtml = 'Like what you see? Visit the ' +\n",
              "          '<a target=\"_blank\" href=https://colab.research.google.com/notebooks/data_table.ipynb>data table notebook</a>'\n",
              "          + ' to learn more about interactive tables.';\n",
              "        element.innerHTML = '';\n",
              "        dataTable['output_type'] = 'display_data';\n",
              "        await google.colab.output.renderOutput(dataTable, element);\n",
              "        const docLink = document.createElement('div');\n",
              "        docLink.innerHTML = docLinkHtml;\n",
              "        element.appendChild(docLink);\n",
              "      }\n",
              "    </script>\n",
              "  </div>\n",
              "\n",
              "\n",
              "<div id=\"df-69e36f76-a7a4-4cc0-a074-fd03a14a16e7\">\n",
              "  <button class=\"colab-df-quickchart\" onclick=\"quickchart('df-69e36f76-a7a4-4cc0-a074-fd03a14a16e7')\"\n",
              "            title=\"Suggest charts\"\n",
              "            style=\"display:none;\">\n",
              "\n",
              "<svg xmlns=\"http://www.w3.org/2000/svg\" height=\"24px\"viewBox=\"0 0 24 24\"\n",
              "     width=\"24px\">\n",
              "    <g>\n",
              "        <path d=\"M19 3H5c-1.1 0-2 .9-2 2v14c0 1.1.9 2 2 2h14c1.1 0 2-.9 2-2V5c0-1.1-.9-2-2-2zM9 17H7v-7h2v7zm4 0h-2V7h2v10zm4 0h-2v-4h2v4z\"/>\n",
              "    </g>\n",
              "</svg>\n",
              "  </button>\n",
              "\n",
              "<style>\n",
              "  .colab-df-quickchart {\n",
              "      --bg-color: #E8F0FE;\n",
              "      --fill-color: #1967D2;\n",
              "      --hover-bg-color: #E2EBFA;\n",
              "      --hover-fill-color: #174EA6;\n",
              "      --disabled-fill-color: #AAA;\n",
              "      --disabled-bg-color: #DDD;\n",
              "  }\n",
              "\n",
              "  [theme=dark] .colab-df-quickchart {\n",
              "      --bg-color: #3B4455;\n",
              "      --fill-color: #D2E3FC;\n",
              "      --hover-bg-color: #434B5C;\n",
              "      --hover-fill-color: #FFFFFF;\n",
              "      --disabled-bg-color: #3B4455;\n",
              "      --disabled-fill-color: #666;\n",
              "  }\n",
              "\n",
              "  .colab-df-quickchart {\n",
              "    background-color: var(--bg-color);\n",
              "    border: none;\n",
              "    border-radius: 50%;\n",
              "    cursor: pointer;\n",
              "    display: none;\n",
              "    fill: var(--fill-color);\n",
              "    height: 32px;\n",
              "    padding: 0;\n",
              "    width: 32px;\n",
              "  }\n",
              "\n",
              "  .colab-df-quickchart:hover {\n",
              "    background-color: var(--hover-bg-color);\n",
              "    box-shadow: 0 1px 2px rgba(60, 64, 67, 0.3), 0 1px 3px 1px rgba(60, 64, 67, 0.15);\n",
              "    fill: var(--button-hover-fill-color);\n",
              "  }\n",
              "\n",
              "  .colab-df-quickchart-complete:disabled,\n",
              "  .colab-df-quickchart-complete:disabled:hover {\n",
              "    background-color: var(--disabled-bg-color);\n",
              "    fill: var(--disabled-fill-color);\n",
              "    box-shadow: none;\n",
              "  }\n",
              "\n",
              "  .colab-df-spinner {\n",
              "    border: 2px solid var(--fill-color);\n",
              "    border-color: transparent;\n",
              "    border-bottom-color: var(--fill-color);\n",
              "    animation:\n",
              "      spin 1s steps(1) infinite;\n",
              "  }\n",
              "\n",
              "  @keyframes spin {\n",
              "    0% {\n",
              "      border-color: transparent;\n",
              "      border-bottom-color: var(--fill-color);\n",
              "      border-left-color: var(--fill-color);\n",
              "    }\n",
              "    20% {\n",
              "      border-color: transparent;\n",
              "      border-left-color: var(--fill-color);\n",
              "      border-top-color: var(--fill-color);\n",
              "    }\n",
              "    30% {\n",
              "      border-color: transparent;\n",
              "      border-left-color: var(--fill-color);\n",
              "      border-top-color: var(--fill-color);\n",
              "      border-right-color: var(--fill-color);\n",
              "    }\n",
              "    40% {\n",
              "      border-color: transparent;\n",
              "      border-right-color: var(--fill-color);\n",
              "      border-top-color: var(--fill-color);\n",
              "    }\n",
              "    60% {\n",
              "      border-color: transparent;\n",
              "      border-right-color: var(--fill-color);\n",
              "    }\n",
              "    80% {\n",
              "      border-color: transparent;\n",
              "      border-right-color: var(--fill-color);\n",
              "      border-bottom-color: var(--fill-color);\n",
              "    }\n",
              "    90% {\n",
              "      border-color: transparent;\n",
              "      border-bottom-color: var(--fill-color);\n",
              "    }\n",
              "  }\n",
              "</style>\n",
              "\n",
              "  <script>\n",
              "    async function quickchart(key) {\n",
              "      const quickchartButtonEl =\n",
              "        document.querySelector('#' + key + ' button');\n",
              "      quickchartButtonEl.disabled = true;  // To prevent multiple clicks.\n",
              "      quickchartButtonEl.classList.add('colab-df-spinner');\n",
              "      try {\n",
              "        const charts = await google.colab.kernel.invokeFunction(\n",
              "            'suggestCharts', [key], {});\n",
              "      } catch (error) {\n",
              "        console.error('Error during call to suggestCharts:', error);\n",
              "      }\n",
              "      quickchartButtonEl.classList.remove('colab-df-spinner');\n",
              "      quickchartButtonEl.classList.add('colab-df-quickchart-complete');\n",
              "    }\n",
              "    (() => {\n",
              "      let quickchartButtonEl =\n",
              "        document.querySelector('#df-69e36f76-a7a4-4cc0-a074-fd03a14a16e7 button');\n",
              "      quickchartButtonEl.style.display =\n",
              "        google.colab.kernel.accessAllowed ? 'block' : 'none';\n",
              "    })();\n",
              "  </script>\n",
              "</div>\n",
              "\n",
              "    </div>\n",
              "  </div>\n"
            ],
            "application/vnd.google.colaboratory.intrinsic+json": {
              "type": "dataframe",
              "variable_name": "ElectronicSales",
              "summary": "{\n  \"name\": \"ElectronicSales\",\n  \"rows\": 20000,\n  \"fields\": [\n    {\n      \"column\": \"Customer ID\",\n      \"properties\": {\n        \"dtype\": \"number\",\n        \"std\": 5631,\n        \"min\": 1000,\n        \"max\": 19998,\n        \"num_unique_values\": 12136,\n        \"samples\": [\n          7786,\n          18325,\n          11811\n        ],\n        \"semantic_type\": \"\",\n        \"description\": \"\"\n      }\n    },\n    {\n      \"column\": \"Age\",\n      \"properties\": {\n        \"dtype\": \"number\",\n        \"std\": 18,\n        \"min\": 18,\n        \"max\": 80,\n        \"num_unique_values\": 63,\n        \"samples\": [\n          51,\n          48,\n          53\n        ],\n        \"semantic_type\": \"\",\n        \"description\": \"\"\n      }\n    },\n    {\n      \"column\": \"Gender\",\n      \"properties\": {\n        \"dtype\": \"category\",\n        \"num_unique_values\": 2,\n        \"samples\": [\n          \"Female\",\n          \"Male\"\n        ],\n        \"semantic_type\": \"\",\n        \"description\": \"\"\n      }\n    },\n    {\n      \"column\": \"Loyalty Member\",\n      \"properties\": {\n        \"dtype\": \"category\",\n        \"num_unique_values\": 2,\n        \"samples\": [\n          \"Yes\",\n          \"No\"\n        ],\n        \"semantic_type\": \"\",\n        \"description\": \"\"\n      }\n    },\n    {\n      \"column\": \"Product Type\",\n      \"properties\": {\n        \"dtype\": \"category\",\n        \"num_unique_values\": 5,\n        \"samples\": [\n          \"Tablet\",\n          \"Headphones\"\n        ],\n        \"semantic_type\": \"\",\n        \"description\": \"\"\n      }\n    },\n    {\n      \"column\": \"SKU\",\n      \"properties\": {\n        \"dtype\": \"category\",\n        \"num_unique_values\": 10,\n        \"samples\": [\n          \"HDP456\",\n          \"SKU1002\"\n        ],\n        \"semantic_type\": \"\",\n        \"description\": \"\"\n      }\n    },\n    {\n      \"column\": \"Rating\",\n      \"properties\": {\n        \"dtype\": \"number\",\n        \"std\": 1,\n        \"min\": 1,\n        \"max\": 5,\n        \"num_unique_values\": 5,\n        \"samples\": [\n          3,\n          4\n        ],\n        \"semantic_type\": \"\",\n        \"description\": \"\"\n      }\n    },\n    {\n      \"column\": \"Order Status\",\n      \"properties\": {\n        \"dtype\": \"category\",\n        \"num_unique_values\": 2,\n        \"samples\": [\n          \"Completed\",\n          \"Cancelled\"\n        ],\n        \"semantic_type\": \"\",\n        \"description\": \"\"\n      }\n    },\n    {\n      \"column\": \"Payment Method\",\n      \"properties\": {\n        \"dtype\": \"category\",\n        \"num_unique_values\": 6,\n        \"samples\": [\n          \"Credit Card\",\n          \"Paypal\"\n        ],\n        \"semantic_type\": \"\",\n        \"description\": \"\"\n      }\n    },\n    {\n      \"column\": \"Total Price\",\n      \"properties\": {\n        \"dtype\": \"number\",\n        \"std\": 2544.9786750421763,\n        \"min\": 20.75,\n        \"max\": 11396.8,\n        \"num_unique_values\": 104,\n        \"samples\": [\n          207.5,\n          786.41\n        ],\n        \"semantic_type\": \"\",\n        \"description\": \"\"\n      }\n    },\n    {\n      \"column\": \"Unit Price\",\n      \"properties\": {\n        \"dtype\": \"number\",\n        \"std\": 312.27407601846954,\n        \"min\": 20.75,\n        \"max\": 1139.68,\n        \"num_unique_values\": 14,\n        \"samples\": [\n          674.32,\n          786.41\n        ],\n        \"semantic_type\": \"\",\n        \"description\": \"\"\n      }\n    },\n    {\n      \"column\": \"Quantity\",\n      \"properties\": {\n        \"dtype\": \"number\",\n        \"std\": 2,\n        \"min\": 1,\n        \"max\": 10,\n        \"num_unique_values\": 10,\n        \"samples\": [\n          1,\n          3\n        ],\n        \"semantic_type\": \"\",\n        \"description\": \"\"\n      }\n    },\n    {\n      \"column\": \"Purchase Date\",\n      \"properties\": {\n        \"dtype\": \"object\",\n        \"num_unique_values\": 366,\n        \"samples\": [\n          \"2024-04-15\",\n          \"2024-03-25\"\n        ],\n        \"semantic_type\": \"\",\n        \"description\": \"\"\n      }\n    },\n    {\n      \"column\": \"Shipping Type\",\n      \"properties\": {\n        \"dtype\": \"category\",\n        \"num_unique_values\": 5,\n        \"samples\": [\n          \"Overnight\",\n          \"Expedited\"\n        ],\n        \"semantic_type\": \"\",\n        \"description\": \"\"\n      }\n    },\n    {\n      \"column\": \"Add-ons Purchased\",\n      \"properties\": {\n        \"dtype\": \"category\",\n        \"num_unique_values\": 75,\n        \"samples\": [\n          \"Impulse Item,Accessory\",\n          \"Accessory, Extended Warranty, Impulse Item\"\n        ],\n        \"semantic_type\": \"\",\n        \"description\": \"\"\n      }\n    },\n    {\n      \"column\": \"Add-on Total\",\n      \"properties\": {\n        \"dtype\": \"number\",\n        \"std\": 58.05843080101657,\n        \"min\": 0.0,\n        \"max\": 292.77,\n        \"num_unique_values\": 10036,\n        \"samples\": [\n          62.22,\n          160.27\n        ],\n        \"semantic_type\": \"\",\n        \"description\": \"\"\n      }\n    }\n  ]\n}"
            }
          },
          "metadata": {},
          "execution_count": 35
        }
      ],
      "source": [
        "ElectronicSales.head()"
      ]
    },
    {
      "cell_type": "markdown",
      "source": [
        "**Descubriendo variables relevantes:**\n",
        "\n",
        "Por medio del comando .describe() obtendremos las principales medidas estadisticas sobre nuestras variables.\n",
        "\n",
        "Estas medidas serviran para puntualizar sobre nuestros principales ######"
      ],
      "metadata": {
        "id": "Mg9NV_X9S_l3"
      }
    },
    {
      "cell_type": "code",
      "source": [
        "ElectronicSales.describe()"
      ],
      "metadata": {
        "colab": {
          "base_uri": "https://localhost:8080/",
          "height": 300
        },
        "id": "5o9r-wHrVx2v",
        "outputId": "fa9a3ea2-d6d3-4f0d-ad04-ba6af647a3b5"
      },
      "execution_count": 36,
      "outputs": [
        {
          "output_type": "execute_result",
          "data": {
            "text/plain": [
              "        Customer ID           Age        Rating   Total Price    Unit Price  \\\n",
              "count  20000.000000  20000.000000  20000.000000  20000.000000  20000.000000   \n",
              "mean   10483.526550     48.994100      3.093950   3180.133419    578.631867   \n",
              "std     5631.732525     18.038745      1.223764   2544.978675    312.274076   \n",
              "min     1000.000000     18.000000      1.000000     20.750000     20.750000   \n",
              "25%     5478.000000     33.000000      2.000000   1139.680000    361.180000   \n",
              "50%    10499.500000     49.000000      3.000000   2534.490000    463.960000   \n",
              "75%    15504.000000     65.000000      4.000000   4639.600000    791.190000   \n",
              "max    19998.000000     80.000000      5.000000  11396.800000   1139.680000   \n",
              "\n",
              "           Quantity  Add-on Total  \n",
              "count  20000.000000  20000.000000  \n",
              "mean       5.485550     62.244848  \n",
              "std        2.870854     58.058431  \n",
              "min        1.000000      0.000000  \n",
              "25%        3.000000      7.615000  \n",
              "50%        5.000000     51.700000  \n",
              "75%        8.000000     93.842500  \n",
              "max       10.000000    292.770000  "
            ],
            "text/html": [
              "\n",
              "  <div id=\"df-d49fb628-667a-45f7-aa44-3c9985fb8658\" class=\"colab-df-container\">\n",
              "    <div>\n",
              "<style scoped>\n",
              "    .dataframe tbody tr th:only-of-type {\n",
              "        vertical-align: middle;\n",
              "    }\n",
              "\n",
              "    .dataframe tbody tr th {\n",
              "        vertical-align: top;\n",
              "    }\n",
              "\n",
              "    .dataframe thead th {\n",
              "        text-align: right;\n",
              "    }\n",
              "</style>\n",
              "<table border=\"1\" class=\"dataframe\">\n",
              "  <thead>\n",
              "    <tr style=\"text-align: right;\">\n",
              "      <th></th>\n",
              "      <th>Customer ID</th>\n",
              "      <th>Age</th>\n",
              "      <th>Rating</th>\n",
              "      <th>Total Price</th>\n",
              "      <th>Unit Price</th>\n",
              "      <th>Quantity</th>\n",
              "      <th>Add-on Total</th>\n",
              "    </tr>\n",
              "  </thead>\n",
              "  <tbody>\n",
              "    <tr>\n",
              "      <th>count</th>\n",
              "      <td>20000.000000</td>\n",
              "      <td>20000.000000</td>\n",
              "      <td>20000.000000</td>\n",
              "      <td>20000.000000</td>\n",
              "      <td>20000.000000</td>\n",
              "      <td>20000.000000</td>\n",
              "      <td>20000.000000</td>\n",
              "    </tr>\n",
              "    <tr>\n",
              "      <th>mean</th>\n",
              "      <td>10483.526550</td>\n",
              "      <td>48.994100</td>\n",
              "      <td>3.093950</td>\n",
              "      <td>3180.133419</td>\n",
              "      <td>578.631867</td>\n",
              "      <td>5.485550</td>\n",
              "      <td>62.244848</td>\n",
              "    </tr>\n",
              "    <tr>\n",
              "      <th>std</th>\n",
              "      <td>5631.732525</td>\n",
              "      <td>18.038745</td>\n",
              "      <td>1.223764</td>\n",
              "      <td>2544.978675</td>\n",
              "      <td>312.274076</td>\n",
              "      <td>2.870854</td>\n",
              "      <td>58.058431</td>\n",
              "    </tr>\n",
              "    <tr>\n",
              "      <th>min</th>\n",
              "      <td>1000.000000</td>\n",
              "      <td>18.000000</td>\n",
              "      <td>1.000000</td>\n",
              "      <td>20.750000</td>\n",
              "      <td>20.750000</td>\n",
              "      <td>1.000000</td>\n",
              "      <td>0.000000</td>\n",
              "    </tr>\n",
              "    <tr>\n",
              "      <th>25%</th>\n",
              "      <td>5478.000000</td>\n",
              "      <td>33.000000</td>\n",
              "      <td>2.000000</td>\n",
              "      <td>1139.680000</td>\n",
              "      <td>361.180000</td>\n",
              "      <td>3.000000</td>\n",
              "      <td>7.615000</td>\n",
              "    </tr>\n",
              "    <tr>\n",
              "      <th>50%</th>\n",
              "      <td>10499.500000</td>\n",
              "      <td>49.000000</td>\n",
              "      <td>3.000000</td>\n",
              "      <td>2534.490000</td>\n",
              "      <td>463.960000</td>\n",
              "      <td>5.000000</td>\n",
              "      <td>51.700000</td>\n",
              "    </tr>\n",
              "    <tr>\n",
              "      <th>75%</th>\n",
              "      <td>15504.000000</td>\n",
              "      <td>65.000000</td>\n",
              "      <td>4.000000</td>\n",
              "      <td>4639.600000</td>\n",
              "      <td>791.190000</td>\n",
              "      <td>8.000000</td>\n",
              "      <td>93.842500</td>\n",
              "    </tr>\n",
              "    <tr>\n",
              "      <th>max</th>\n",
              "      <td>19998.000000</td>\n",
              "      <td>80.000000</td>\n",
              "      <td>5.000000</td>\n",
              "      <td>11396.800000</td>\n",
              "      <td>1139.680000</td>\n",
              "      <td>10.000000</td>\n",
              "      <td>292.770000</td>\n",
              "    </tr>\n",
              "  </tbody>\n",
              "</table>\n",
              "</div>\n",
              "    <div class=\"colab-df-buttons\">\n",
              "\n",
              "  <div class=\"colab-df-container\">\n",
              "    <button class=\"colab-df-convert\" onclick=\"convertToInteractive('df-d49fb628-667a-45f7-aa44-3c9985fb8658')\"\n",
              "            title=\"Convert this dataframe to an interactive table.\"\n",
              "            style=\"display:none;\">\n",
              "\n",
              "  <svg xmlns=\"http://www.w3.org/2000/svg\" height=\"24px\" viewBox=\"0 -960 960 960\">\n",
              "    <path d=\"M120-120v-720h720v720H120Zm60-500h600v-160H180v160Zm220 220h160v-160H400v160Zm0 220h160v-160H400v160ZM180-400h160v-160H180v160Zm440 0h160v-160H620v160ZM180-180h160v-160H180v160Zm440 0h160v-160H620v160Z\"/>\n",
              "  </svg>\n",
              "    </button>\n",
              "\n",
              "  <style>\n",
              "    .colab-df-container {\n",
              "      display:flex;\n",
              "      gap: 12px;\n",
              "    }\n",
              "\n",
              "    .colab-df-convert {\n",
              "      background-color: #E8F0FE;\n",
              "      border: none;\n",
              "      border-radius: 50%;\n",
              "      cursor: pointer;\n",
              "      display: none;\n",
              "      fill: #1967D2;\n",
              "      height: 32px;\n",
              "      padding: 0 0 0 0;\n",
              "      width: 32px;\n",
              "    }\n",
              "\n",
              "    .colab-df-convert:hover {\n",
              "      background-color: #E2EBFA;\n",
              "      box-shadow: 0px 1px 2px rgba(60, 64, 67, 0.3), 0px 1px 3px 1px rgba(60, 64, 67, 0.15);\n",
              "      fill: #174EA6;\n",
              "    }\n",
              "\n",
              "    .colab-df-buttons div {\n",
              "      margin-bottom: 4px;\n",
              "    }\n",
              "\n",
              "    [theme=dark] .colab-df-convert {\n",
              "      background-color: #3B4455;\n",
              "      fill: #D2E3FC;\n",
              "    }\n",
              "\n",
              "    [theme=dark] .colab-df-convert:hover {\n",
              "      background-color: #434B5C;\n",
              "      box-shadow: 0px 1px 3px 1px rgba(0, 0, 0, 0.15);\n",
              "      filter: drop-shadow(0px 1px 2px rgba(0, 0, 0, 0.3));\n",
              "      fill: #FFFFFF;\n",
              "    }\n",
              "  </style>\n",
              "\n",
              "    <script>\n",
              "      const buttonEl =\n",
              "        document.querySelector('#df-d49fb628-667a-45f7-aa44-3c9985fb8658 button.colab-df-convert');\n",
              "      buttonEl.style.display =\n",
              "        google.colab.kernel.accessAllowed ? 'block' : 'none';\n",
              "\n",
              "      async function convertToInteractive(key) {\n",
              "        const element = document.querySelector('#df-d49fb628-667a-45f7-aa44-3c9985fb8658');\n",
              "        const dataTable =\n",
              "          await google.colab.kernel.invokeFunction('convertToInteractive',\n",
              "                                                    [key], {});\n",
              "        if (!dataTable) return;\n",
              "\n",
              "        const docLinkHtml = 'Like what you see? Visit the ' +\n",
              "          '<a target=\"_blank\" href=https://colab.research.google.com/notebooks/data_table.ipynb>data table notebook</a>'\n",
              "          + ' to learn more about interactive tables.';\n",
              "        element.innerHTML = '';\n",
              "        dataTable['output_type'] = 'display_data';\n",
              "        await google.colab.output.renderOutput(dataTable, element);\n",
              "        const docLink = document.createElement('div');\n",
              "        docLink.innerHTML = docLinkHtml;\n",
              "        element.appendChild(docLink);\n",
              "      }\n",
              "    </script>\n",
              "  </div>\n",
              "\n",
              "\n",
              "<div id=\"df-5ab4d74c-03db-4f37-aee2-3d1cfa25f203\">\n",
              "  <button class=\"colab-df-quickchart\" onclick=\"quickchart('df-5ab4d74c-03db-4f37-aee2-3d1cfa25f203')\"\n",
              "            title=\"Suggest charts\"\n",
              "            style=\"display:none;\">\n",
              "\n",
              "<svg xmlns=\"http://www.w3.org/2000/svg\" height=\"24px\"viewBox=\"0 0 24 24\"\n",
              "     width=\"24px\">\n",
              "    <g>\n",
              "        <path d=\"M19 3H5c-1.1 0-2 .9-2 2v14c0 1.1.9 2 2 2h14c1.1 0 2-.9 2-2V5c0-1.1-.9-2-2-2zM9 17H7v-7h2v7zm4 0h-2V7h2v10zm4 0h-2v-4h2v4z\"/>\n",
              "    </g>\n",
              "</svg>\n",
              "  </button>\n",
              "\n",
              "<style>\n",
              "  .colab-df-quickchart {\n",
              "      --bg-color: #E8F0FE;\n",
              "      --fill-color: #1967D2;\n",
              "      --hover-bg-color: #E2EBFA;\n",
              "      --hover-fill-color: #174EA6;\n",
              "      --disabled-fill-color: #AAA;\n",
              "      --disabled-bg-color: #DDD;\n",
              "  }\n",
              "\n",
              "  [theme=dark] .colab-df-quickchart {\n",
              "      --bg-color: #3B4455;\n",
              "      --fill-color: #D2E3FC;\n",
              "      --hover-bg-color: #434B5C;\n",
              "      --hover-fill-color: #FFFFFF;\n",
              "      --disabled-bg-color: #3B4455;\n",
              "      --disabled-fill-color: #666;\n",
              "  }\n",
              "\n",
              "  .colab-df-quickchart {\n",
              "    background-color: var(--bg-color);\n",
              "    border: none;\n",
              "    border-radius: 50%;\n",
              "    cursor: pointer;\n",
              "    display: none;\n",
              "    fill: var(--fill-color);\n",
              "    height: 32px;\n",
              "    padding: 0;\n",
              "    width: 32px;\n",
              "  }\n",
              "\n",
              "  .colab-df-quickchart:hover {\n",
              "    background-color: var(--hover-bg-color);\n",
              "    box-shadow: 0 1px 2px rgba(60, 64, 67, 0.3), 0 1px 3px 1px rgba(60, 64, 67, 0.15);\n",
              "    fill: var(--button-hover-fill-color);\n",
              "  }\n",
              "\n",
              "  .colab-df-quickchart-complete:disabled,\n",
              "  .colab-df-quickchart-complete:disabled:hover {\n",
              "    background-color: var(--disabled-bg-color);\n",
              "    fill: var(--disabled-fill-color);\n",
              "    box-shadow: none;\n",
              "  }\n",
              "\n",
              "  .colab-df-spinner {\n",
              "    border: 2px solid var(--fill-color);\n",
              "    border-color: transparent;\n",
              "    border-bottom-color: var(--fill-color);\n",
              "    animation:\n",
              "      spin 1s steps(1) infinite;\n",
              "  }\n",
              "\n",
              "  @keyframes spin {\n",
              "    0% {\n",
              "      border-color: transparent;\n",
              "      border-bottom-color: var(--fill-color);\n",
              "      border-left-color: var(--fill-color);\n",
              "    }\n",
              "    20% {\n",
              "      border-color: transparent;\n",
              "      border-left-color: var(--fill-color);\n",
              "      border-top-color: var(--fill-color);\n",
              "    }\n",
              "    30% {\n",
              "      border-color: transparent;\n",
              "      border-left-color: var(--fill-color);\n",
              "      border-top-color: var(--fill-color);\n",
              "      border-right-color: var(--fill-color);\n",
              "    }\n",
              "    40% {\n",
              "      border-color: transparent;\n",
              "      border-right-color: var(--fill-color);\n",
              "      border-top-color: var(--fill-color);\n",
              "    }\n",
              "    60% {\n",
              "      border-color: transparent;\n",
              "      border-right-color: var(--fill-color);\n",
              "    }\n",
              "    80% {\n",
              "      border-color: transparent;\n",
              "      border-right-color: var(--fill-color);\n",
              "      border-bottom-color: var(--fill-color);\n",
              "    }\n",
              "    90% {\n",
              "      border-color: transparent;\n",
              "      border-bottom-color: var(--fill-color);\n",
              "    }\n",
              "  }\n",
              "</style>\n",
              "\n",
              "  <script>\n",
              "    async function quickchart(key) {\n",
              "      const quickchartButtonEl =\n",
              "        document.querySelector('#' + key + ' button');\n",
              "      quickchartButtonEl.disabled = true;  // To prevent multiple clicks.\n",
              "      quickchartButtonEl.classList.add('colab-df-spinner');\n",
              "      try {\n",
              "        const charts = await google.colab.kernel.invokeFunction(\n",
              "            'suggestCharts', [key], {});\n",
              "      } catch (error) {\n",
              "        console.error('Error during call to suggestCharts:', error);\n",
              "      }\n",
              "      quickchartButtonEl.classList.remove('colab-df-spinner');\n",
              "      quickchartButtonEl.classList.add('colab-df-quickchart-complete');\n",
              "    }\n",
              "    (() => {\n",
              "      let quickchartButtonEl =\n",
              "        document.querySelector('#df-5ab4d74c-03db-4f37-aee2-3d1cfa25f203 button');\n",
              "      quickchartButtonEl.style.display =\n",
              "        google.colab.kernel.accessAllowed ? 'block' : 'none';\n",
              "    })();\n",
              "  </script>\n",
              "</div>\n",
              "\n",
              "    </div>\n",
              "  </div>\n"
            ],
            "application/vnd.google.colaboratory.intrinsic+json": {
              "type": "dataframe",
              "summary": "{\n  \"name\": \"ElectronicSales\",\n  \"rows\": 8,\n  \"fields\": [\n    {\n      \"column\": \"Customer ID\",\n      \"properties\": {\n        \"dtype\": \"number\",\n        \"std\": 6990.134144041489,\n        \"min\": 1000.0,\n        \"max\": 20000.0,\n        \"num_unique_values\": 8,\n        \"samples\": [\n          10483.52655,\n          10499.5,\n          20000.0\n        ],\n        \"semantic_type\": \"\",\n        \"description\": \"\"\n      }\n    },\n    {\n      \"column\": \"Age\",\n      \"properties\": {\n        \"dtype\": \"number\",\n        \"std\": 7055.340733182995,\n        \"min\": 18.0,\n        \"max\": 20000.0,\n        \"num_unique_values\": 8,\n        \"samples\": [\n          48.9941,\n          49.0,\n          20000.0\n        ],\n        \"semantic_type\": \"\",\n        \"description\": \"\"\n      }\n    },\n    {\n      \"column\": \"Rating\",\n      \"properties\": {\n        \"dtype\": \"number\",\n        \"std\": 7070.092248877544,\n        \"min\": 1.0,\n        \"max\": 20000.0,\n        \"num_unique_values\": 8,\n        \"samples\": [\n          3.09395,\n          3.0,\n          20000.0\n        ],\n        \"semantic_type\": \"\",\n        \"description\": \"\"\n      }\n    },\n    {\n      \"column\": \"Total Price\",\n      \"properties\": {\n        \"dtype\": \"number\",\n        \"std\": 6734.136297429775,\n        \"min\": 20.75,\n        \"max\": 20000.0,\n        \"num_unique_values\": 8,\n        \"samples\": [\n          3180.1334185,\n          2534.49,\n          20000.0\n        ],\n        \"semantic_type\": \"\",\n        \"description\": \"\"\n      }\n    },\n    {\n      \"column\": \"Unit Price\",\n      \"properties\": {\n        \"dtype\": \"number\",\n        \"std\": 6893.9261164372765,\n        \"min\": 20.75,\n        \"max\": 20000.0,\n        \"num_unique_values\": 8,\n        \"samples\": [\n          578.631867,\n          463.96,\n          20000.0\n        ],\n        \"semantic_type\": \"\",\n        \"description\": \"\"\n      }\n    },\n    {\n      \"column\": \"Quantity\",\n      \"properties\": {\n        \"dtype\": \"number\",\n        \"std\": 7069.282637410221,\n        \"min\": 1.0,\n        \"max\": 20000.0,\n        \"num_unique_values\": 8,\n        \"samples\": [\n          5.48555,\n          5.0,\n          20000.0\n        ],\n        \"semantic_type\": \"\",\n        \"description\": \"\"\n      }\n    },\n    {\n      \"column\": \"Add-on Total\",\n      \"properties\": {\n        \"dtype\": \"number\",\n        \"std\": 7043.064123281226,\n        \"min\": 0.0,\n        \"max\": 20000.0,\n        \"num_unique_values\": 8,\n        \"samples\": [\n          62.244848,\n          51.7,\n          20000.0\n        ],\n        \"semantic_type\": \"\",\n        \"description\": \"\"\n      }\n    }\n  ]\n}"
            }
          },
          "metadata": {},
          "execution_count": 36
        }
      ]
    },
    {
      "cell_type": "markdown",
      "source": [
        "# Datos Relevantes"
      ],
      "metadata": {
        "id": "ysNakgJIO9PE"
      }
    },
    {
      "cell_type": "markdown",
      "source": [
        "- Age (Edad): La media de los clientes es de aproximadamente 49 años, con un rango de 18 a 80 años. Esto indica una amplia distribución etaria de los clientes.\n",
        "\n",
        "- Rating (Calificación): Los clientes tienden a dar una calificación promedio de 3.09 estrellas, con un rango de 1 a 5. El 50% de los clientes califican con 3 o menos estrellas, pero hay un 25% que otorgan calificaciones de 4 o más.\n",
        "\n",
        "- Total Price (Precio Total): El precio total medio de una transacción es de aproximadamente 3180, con una desviación estándar considerable, lo que indica que los precios varían mucho entre transacciones. El valor máximo llega hasta los 11396.\n",
        "\n",
        "- Unit Price (Precio por Unidad): El precio promedio por unidad es de 578, con un mínimo de 20.75 y un máximo de 1139. Hay una variación notable en los precios de los productos vendidos.\n",
        "\n",
        "- Quantity (Cantidad): Los clientes compran en promedio 5.48 unidades por transacción, con un mínimo de 1 y un máximo de 10.\n",
        "\n",
        "- Add-on Total (Total de Complementos): Los clientes gastan un promedio de 62 en complementos, con valores que van de 0 a 292. Esto sugiere que no todos los clientes compran complementos, pero para aquellos que lo hacen, el gasto adicional puede ser significativo.\n"
      ],
      "metadata": {
        "id": "DXSoCfE2ZHye"
      }
    },
    {
      "cell_type": "markdown",
      "source": [
        "# Resumen:"
      ],
      "metadata": {
        "id": "MKOq9SD3PW31"
      }
    },
    {
      "cell_type": "markdown",
      "source": [
        "Rating es crucial para analizar la satisfacción del cliente. Total Price y Quantity pueden ayudar a entender el tamaño promedio de las transacciones y el comportamiento de compra. Add-on Total es relevante para observar oportunidades de ventas adicionales (cross-selling)."
      ],
      "metadata": {
        "id": "J9P2ykoOPJuy"
      }
    },
    {
      "cell_type": "markdown",
      "source": [
        "# Graficas con Seaborn\n",
        "\n",
        "\n"
      ],
      "metadata": {
        "id": "qbFtq_L1dS36"
      }
    },
    {
      "cell_type": "markdown",
      "source": [
        "# Distribución de edades de los clientes (Age Distribution):"
      ],
      "metadata": {
        "id": "tBRj8svbDRmO"
      }
    },
    {
      "cell_type": "code",
      "source": [
        "sns.histplot(ElectronicSales['Age'], kde=True, bins=20)"
      ],
      "metadata": {
        "colab": {
          "base_uri": "https://localhost:8080/",
          "height": 468
        },
        "id": "Z_c7GQBSdE4x",
        "outputId": "5ae53edb-1fcf-4997-9420-12061866eebc"
      },
      "execution_count": 37,
      "outputs": [
        {
          "output_type": "execute_result",
          "data": {
            "text/plain": [
              "<Axes: xlabel='Age', ylabel='Count'>"
            ]
          },
          "metadata": {},
          "execution_count": 37
        },
        {
          "output_type": "display_data",
          "data": {
            "text/plain": [
              "<Figure size 640x480 with 1 Axes>"
            ],
            "image/png": "[encoded data removed]"
          },
          "metadata": {}
        }
      ]
    },
    {
      "cell_type": "markdown",
      "source": [
        "- El histograma muestra que la mayoría de los clientes tienen entre 30 y 65 años, con una ligera inclinación hacia los 49 años.\n",
        "\n",
        "- Existen menos clientes jóvenes (menores de 30) o mayores de 70, lo que indica un público más centrado en la mediana edad.\n",
        "\n",
        "---\n",
        "\n"
      ],
      "metadata": {
        "id": "REv7aMhjAH3S"
      }
    },
    {
      "cell_type": "markdown",
      "source": [
        "# Relación entre Precio Total y Cantidad (Total Price vs Quantity):"
      ],
      "metadata": {
        "id": "-SdKItA_AsJy"
      }
    },
    {
      "cell_type": "code",
      "source": [
        "sns.scatterplot(x='Quantity', y='Total Price', data=ElectronicSales)\n"
      ],
      "metadata": {
        "colab": {
          "base_uri": "https://localhost:8080/",
          "height": 468
        },
        "id": "_R_bmqF_A3kw",
        "outputId": "bb05bb58-910b-47fc-ad74-50078d13e26d"
      },
      "execution_count": 38,
      "outputs": [
        {
          "output_type": "execute_result",
          "data": {
            "text/plain": [
              "<Axes: xlabel='Quantity', ylabel='Total Price'>"
            ]
          },
          "metadata": {},
          "execution_count": 38
        },
        {
          "output_type": "display_data",
          "data": {
            "text/plain": [
              "<Figure size 640x480 with 1 Axes>"
            ],
            "image/png": "[encoded data removed]"
          },
          "metadata": {}
        }
      ]
    },
    {
      "cell_type": "markdown",
      "source": [
        "El gráfico de dispersión indica una tendencia lineal, mostrando que al aumentar la cantidad de productos comprados, el precio total también aumenta.\n",
        "Sin embargo, hay algunas transacciones con una baja cantidad de productos y un alto precio total, lo que podría deberse a productos de alto valor.\n",
        "\n",
        "---\n",
        "\n"
      ],
      "metadata": {
        "id": "VYieAyQDBtAd"
      }
    },
    {
      "cell_type": "markdown",
      "source": [
        "#Boxplot de Calificaciones (Rating) por Género:\n",
        "\n"
      ],
      "metadata": {
        "id": "cubliqRTCZDq"
      }
    },
    {
      "cell_type": "code",
      "source": [
        "sns.boxplot(x='Gender', y='Rating', data=ElectronicSales)\n"
      ],
      "metadata": {
        "colab": {
          "base_uri": "https://localhost:8080/",
          "height": 468
        },
        "id": "OQ1afZ46CvcS",
        "outputId": "a9c2d30e-1f76-41cd-ea4e-9b9d031b8284"
      },
      "execution_count": 39,
      "outputs": [
        {
          "output_type": "execute_result",
          "data": {
            "text/plain": [
              "<Axes: xlabel='Gender', ylabel='Rating'>"
            ]
          },
          "metadata": {},
          "execution_count": 39
        },
        {
          "output_type": "display_data",
          "data": {
            "text/plain": [
              "<Figure size 640x480 with 1 Axes>"
            ],
            "image/png": "[encoded data removed]"
          },
          "metadata": {}
        }
      ]
    },
    {
      "cell_type": "markdown",
      "source": [
        "El boxplot sugiere que las calificaciones promedio de los clientes son similares entre géneros, aunque el rango de calificaciones es un poco más amplio en los hombres.\n",
        "\n",
        "Ambos géneros muestran una mediana de calificaciones en torno a 3 estrellas, pero las mujeres parecen dar más calificaciones cercanas a las 4 estrellas.\n",
        "\n",
        "---\n",
        "\n"
      ],
      "metadata": {
        "id": "yTHlyhONC8im"
      }
    },
    {
      "cell_type": "markdown",
      "source": [
        "# Graficas con Matplotlib"
      ],
      "metadata": {
        "id": "CxO84SI4DeX2"
      }
    },
    {
      "cell_type": "markdown",
      "source": [
        "# Diagrama de dispersión (Scatter plot) entre Precio Unitario y Precio Total:"
      ],
      "metadata": {
        "id": "DxBKHUbSDpjE"
      }
    },
    {
      "cell_type": "code",
      "source": [
        "plt.figure(figsize=(8, 6))\n",
        "plt.scatter(ElectronicSales['Unit Price'], ElectronicSales['Total Price'], alpha=0.5)\n",
        "plt.xlabel('Precio Unitario')\n",
        "plt.ylabel('Precio Total')\n",
        "plt.title('Diagrama de Dispersión: Precio Unitario vs. Precio Total')\n",
        "plt.grid(True)\n",
        "plt.show()"
      ],
      "metadata": {
        "colab": {
          "base_uri": "https://localhost:8080/",
          "height": 565
        },
        "id": "hssjQAcSEFOV",
        "outputId": "5547301e-3a67-49ee-a147-38489bf0397c"
      },
      "execution_count": 40,
      "outputs": [
        {
          "output_type": "display_data",
          "data": {
            "text/plain": [
              "<Figure size 800x600 with 1 Axes>"
            ],
            "image/png": "[encoded data removed]"
          },
          "metadata": {}
        }
      ]
    },
    {
      "cell_type": "markdown",
      "source": [
        "- El scatterplot revela una relación directa entre el precio unitario y el precio total, como era de esperarse.\n",
        "- Las transacciones con precios unitarios bajos suelen corresponder a precios totales más bajos, mientras que productos más caros elevan significativamente el precio total.\n",
        "\n",
        "---\n",
        "\n"
      ],
      "metadata": {
        "id": "KQyiPf3BFg3h"
      }
    },
    {
      "cell_type": "markdown",
      "source": [
        "# Histograma de Cantidad de Productos Comprados:\n",
        "\n"
      ],
      "metadata": {
        "id": "TjT07iqpFHBp"
      }
    },
    {
      "cell_type": "code",
      "source": [
        "plt.hist(ElectronicSales['Quantity'], bins=10, edgecolor='black')  # Agrega borde negro a las barras\n",
        "plt.xlabel('Cantidad de Productos')\n",
        "plt.ylabel('Frecuencia')\n",
        "plt.title('Histograma de Cantidad de Productos Comprados')\n",
        "plt.grid(axis='y', linestyle='--', alpha=0.7)  # Agrega una cuadrícula vertical sutil\n",
        "plt.show()\n"
      ],
      "metadata": {
        "colab": {
          "base_uri": "https://localhost:8080/",
          "height": 472
        },
        "id": "awipuEU2FWTM",
        "outputId": "b8bfc7a7-a33e-418f-b849-4165d5295bdd"
      },
      "execution_count": 41,
      "outputs": [
        {
          "output_type": "display_data",
          "data": {
            "text/plain": [
              "<Figure size 640x480 with 1 Axes>"
            ],
            "image/png": "[encoded data removed]"
          },
          "metadata": {}
        }
      ]
    },
    {
      "cell_type": "markdown",
      "source": [
        "- La mayoría de las transacciones involucran entre 3 y 8 unidades de productos, siendo 5 la cantidad más común.\n",
        "- Hay pocas transacciones con una sola unidad, y las compras de 10 unidades no son frecuentes.\n",
        "\n",
        "---\n",
        "\n"
      ],
      "metadata": {
        "id": "LpFNh36yGJF4"
      }
    },
    {
      "cell_type": "markdown",
      "source": [
        "# Gráfico de barras del Precio Total promedio por tipo de producto:\n",
        "\n"
      ],
      "metadata": {
        "id": "3lmB2Z73GglG"
      }
    },
    {
      "cell_type": "code",
      "source": [
        "avg_price_per_product = ElectronicSales.groupby('Product Type')['Total Price'].mean()\n",
        "plt.bar(avg_price_per_product.index, avg_price_per_product.values)\n",
        "plt.xlabel('Product Type')\n",
        "plt.ylabel('Average Total Price')\n",
        "plt.title('Average Total Price by Product Type')\n",
        "plt.show()\n"
      ],
      "metadata": {
        "colab": {
          "base_uri": "https://localhost:8080/",
          "height": 472
        },
        "id": "e3dpNgRxGqU3",
        "outputId": "85a0b694-9876-4dc0-845d-be9cf5942a9b"
      },
      "execution_count": 42,
      "outputs": [
        {
          "output_type": "display_data",
          "data": {
            "text/plain": [
              "<Figure size 640x480 with 1 Axes>"
            ],
            "image/png": "[encoded data removed]"
          },
          "metadata": {}
        }
      ]
    },
    {
      "cell_type": "markdown",
      "source": [
        "- Los productos con el precio total promedio más alto son los de mayor costo unitario, como los laptops o productos electrónicos de alta gama.\n",
        "- Los productos con el precio total promedio más bajo podrían incluir accesorios o complementos, lo que refleja transacciones más pequeñas.\n",
        "\n",
        "---\n",
        "\n"
      ],
      "metadata": {
        "id": "_yAnSj3-G-nG"
      }
    }
  ],
  "metadata": {
    "colab": {
      "provenance": []
    },
    "kernelspec": {
      "display_name": "Python 3",
      "name": "python3"
    },
    "language_info": {
      "name": "python"
    }
  },
  "nbformat": 4,
  "nbformat_minor": 0
}